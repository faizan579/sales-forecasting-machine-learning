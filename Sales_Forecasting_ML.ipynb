{
  "nbformat": 4,
  "nbformat_minor": 0,
  "metadata": {
    "colab": {
      "provenance": []
    },
    "kernelspec": {
      "name": "python3",
      "display_name": "Python 3"
    },
    "language_info": {
      "name": "python"
    }
  },
  "cells": [
    {
      "cell_type": "code",
      "execution_count": 2,
      "metadata": {
        "id": "3RVg3rWlYIfk"
      },
      "outputs": [],
      "source": [
        "import pandas as pd\n",
        "import numpy as np\n",
        "import matplotlib.pyplot as plt\n",
        "import seaborn as sns\n",
        "from datetime import datetime, timedelta\n",
        "from sklearn.metrics import mean_absolute_error, mean_squared_error, r2_score\n",
        "from sklearn.linear_model import LinearRegression\n",
        "from sklearn.ensemble import RandomForestRegressor\n",
        "import warnings\n",
        "warnings.filterwarnings('ignore')"
      ]
    },
    {
      "cell_type": "code",
      "source": [
        "# Setup\n",
        "sns.set_palette(\"husl\")\n",
        "plt.rcParams['figure.figsize'] = (14, 7)\n",
        "\n",
        "print(\"=\"*70)\n",
        "print(\"  SALES FORECASTING & TIME SERIES ANALYSIS\")\n",
        "print(\"  Predicting tomorrow's sales using today's data\")\n",
        "print(\"=\"*70)\n",
        "print()"
      ],
      "metadata": {
        "colab": {
          "base_uri": "https://localhost:8080/"
        },
        "id": "wzcJaCJ7YdSu",
        "outputId": "46408f52-8433-444b-8a56-31c11b7eed9d"
      },
      "execution_count": 3,
      "outputs": [
        {
          "output_type": "stream",
          "name": "stdout",
          "text": [
            "======================================================================\n",
            "  SALES FORECASTING & TIME SERIES ANALYSIS\n",
            "  Predicting tomorrow's sales using today's data\n",
            "======================================================================\n",
            "\n"
          ]
        }
      ]
    },
    {
      "cell_type": "code",
      "source": [
        "\n",
        "# Generate realistic sales data\n",
        "print(\"📈 Generating 2 years of sales data...\")\n",
        "np.random.seed(42)\n",
        "\n",
        "start_date = datetime(2023, 1, 1)\n",
        "end_date = datetime(2024, 12, 31)\n",
        "dates = pd.date_range(start=start_date, end=end_date, freq='D')\n",
        "n_days = len(dates)"
      ],
      "metadata": {
        "colab": {
          "base_uri": "https://localhost:8080/"
        },
        "id": "ojugTv7gYhqE",
        "outputId": "e8fe14ea-03e3-4ef4-ff38-8797566ed4b9"
      },
      "execution_count": 4,
      "outputs": [
        {
          "output_type": "stream",
          "name": "stdout",
          "text": [
            "📈 Generating 2 years of sales data...\n"
          ]
        }
      ]
    },
    {
      "cell_type": "code",
      "source": [
        "# Create realistic patterns\n",
        "base_sales = 1000\n",
        "growth = np.linspace(0, 500, n_days)  # Business growth\n",
        "seasonal = 200 * np.sin(2 * np.pi * np.arange(n_days) / 365.25)  # Yearly seasonality\n",
        "weekly = 100 * np.sin(2 * np.pi * np.arange(n_days) / 7)  # Weekly pattern\n",
        "noise = np.random.normal(0, 50, n_days)"
      ],
      "metadata": {
        "id": "J9ELbkyeYj_H"
      },
      "execution_count": 5,
      "outputs": []
    },
    {
      "cell_type": "code",
      "source": [
        "# Weekend boost (people shop more on weekends)\n",
        "weekend_effect = np.array([150 if d.weekday() >= 5 else 0 for d in dates])"
      ],
      "metadata": {
        "id": "3bQShaEsYnC9"
      },
      "execution_count": 6,
      "outputs": []
    },
    {
      "cell_type": "code",
      "source": [
        "# Special events (Black Friday, Christmas, summer sales)\n",
        "special_dates = [\n",
        "    datetime(2023, 11, 24), datetime(2023, 12, 25), datetime(2023, 7, 14),\n",
        "    datetime(2024, 11, 29), datetime(2024, 12, 25), datetime(2024, 7, 14)\n",
        "]\n",
        "special_boost = np.array([300 if d in special_dates else 0 for d in dates])\n"
      ],
      "metadata": {
        "id": "jj3YfK72YqgH"
      },
      "execution_count": 7,
      "outputs": []
    },
    {
      "cell_type": "code",
      "source": [
        "# Combine all effects\n",
        "sales = base_sales + growth + seasonal + weekly + noise + weekend_effect + special_boost\n",
        "sales = np.maximum(sales, 100)  # No negative sales!\n",
        "\n",
        "# Create DataFrame\n",
        "df = pd.DataFrame({\n",
        "    'date': dates,\n",
        "    'sales': sales.round(2),\n",
        "    'day_name': [d.strftime('%A') for d in dates],\n",
        "    'month': [d.month for d in dates],\n",
        "    'quarter': [(d.month - 1) // 3 + 1 for d in dates],\n",
        "    'is_weekend': [1 if d.weekday() >= 5 else 0 for d in dates],\n",
        "    'is_special_day': [1 if d in special_dates else 0 for d in dates]\n",
        "})\n",
        "\n",
        "print(f\"✓ Dataset ready: {len(df)} days ({df['date'].min().strftime('%d %b %Y')} to {df['date'].max().strftime('%d %b %Y')})\")\n",
        "print(f\"\\nFirst look at our sales data:\")\n",
        "print(df.head(10))\n",
        "print()"
      ],
      "metadata": {
        "colab": {
          "base_uri": "https://localhost:8080/"
        },
        "id": "sHO6eOANYx5j",
        "outputId": "212034c2-a9f2-44b9-a059-d20bb404f595"
      },
      "execution_count": 8,
      "outputs": [
        {
          "output_type": "stream",
          "name": "stdout",
          "text": [
            "✓ Dataset ready: 731 days (01 Jan 2023 to 31 Dec 2024)\n",
            "\n",
            "First look at our sales data:\n",
            "        date    sales   day_name  month  quarter  is_weekend  is_special_day\n",
            "0 2023-01-01  1174.84     Sunday      1        1           1               0\n",
            "1 2023-01-02  1075.40     Monday      1        1           0               0\n",
            "2 2023-01-03  1138.13    Tuesday      1        1           0               0\n",
            "3 2023-01-04  1131.91  Wednesday      1        1           0               0\n",
            "4 2023-01-05   961.39   Thursday      1        1           0               0\n",
            "5 2023-01-06   911.41     Friday      1        1           0               0\n",
            "6 2023-01-07  1175.49   Saturday      1        1           1               0\n",
            "7 2023-01-08  1217.19     Sunday      1        1           1               0\n",
            "8 2023-01-09  1087.63     Monday      1        1           0               0\n",
            "9 2023-01-10  1161.63    Tuesday      1        1           0               0\n",
            "\n"
          ]
        }
      ]
    },
    {
      "cell_type": "code",
      "source": [
        "# Basic statistics\n",
        "print(\"=\"*70)\n",
        "print(\"STEP 1: Understanding Our Sales\")\n",
        "print(\"=\"*70)\n",
        "print()\n",
        "\n",
        "print(\"💰 Sales Overview:\")\n",
        "print(f\"   • Average daily sales: €{df['sales'].mean():.2f}\")\n",
        "print(f\"   • Best day: €{df['sales'].max():.2f} ({df.loc[df['sales'].idxmax(), 'date'].strftime('%d %b %Y')})\")\n",
        "print(f\"   • Worst day: €{df['sales'].min():.2f} ({df.loc[df['sales'].idxmin(), 'date'].strftime('%d %b %Y')})\")\n",
        "print(f\"   • Total revenue (2 years): €{df['sales'].sum():,.2f}\")\n",
        "print(f\"   • Standard deviation: €{df['sales'].std():.2f}\")\n",
        "print()"
      ],
      "metadata": {
        "colab": {
          "base_uri": "https://localhost:8080/"
        },
        "id": "wWeh_XumYyk_",
        "outputId": "8a73ae16-754a-4f8e-9d41-679eb3c1cb25"
      },
      "execution_count": 9,
      "outputs": [
        {
          "output_type": "stream",
          "name": "stdout",
          "text": [
            "======================================================================\n",
            "STEP 1: Understanding Our Sales\n",
            "======================================================================\n",
            "\n",
            "💰 Sales Overview:\n",
            "   • Average daily sales: €1294.90\n",
            "   • Best day: €1825.51 (25 Dec 2024)\n",
            "   • Worst day: €803.72 (13 Oct 2023)\n",
            "   • Total revenue (2 years): €946,572.71\n",
            "   • Standard deviation: €183.11\n",
            "\n"
          ]
        }
      ]
    },
    {
      "cell_type": "code",
      "source": [
        "# Visualize the overall trend\n",
        "print(\"Creating visualizations...\")\n",
        "fig, axes = plt.subplots(2, 1, figsize=(15, 10))\n"
      ],
      "metadata": {
        "colab": {
          "base_uri": "https://localhost:8080/",
          "height": 854
        },
        "id": "aIJlGOPDY3nx",
        "outputId": "1e535918-73a1-40b0-a4a9-f62dbd2d673e"
      },
      "execution_count": 10,
      "outputs": [
        {
          "output_type": "stream",
          "name": "stdout",
          "text": [
            "Creating visualizations...\n"
          ]
        },
        {
          "output_type": "display_data",
          "data": {
            "text/plain": [
              "<Figure size 1500x1000 with 2 Axes>"
            ],
            "image/png": "[encoded data removed]"
          },
          "metadata": {}
        }
      ]
    },
    {
      "cell_type": "code",
      "source": [
        "# Raw sales data\n",
        "axes[0].plot(df['date'], df['sales'], linewidth=1, alpha=0.6, color='#34495e', label='Daily Sales')\n",
        "axes[0].set_title('Daily Sales Over 2 Years (2023-2024)', fontsize=15, fontweight='bold', pad=15)\n",
        "axes[0].set_xlabel('Date', fontsize=11)\n",
        "axes[0].set_ylabel('Sales (€)', fontsize=11)\n",
        "axes[0].legend(loc='upper left', fontsize=10)\n",
        "axes[0].grid(True, alpha=0.3)"
      ],
      "metadata": {
        "id": "TGIblpIKY7bL"
      },
      "execution_count": 11,
      "outputs": []
    },
    {
      "cell_type": "code",
      "source": [
        "# Highlight special days\n",
        "special_sales = df[df['is_special_day'] == 1]\n",
        "axes[0].scatter(special_sales['date'], special_sales['sales'],\n",
        "               color='red', s=100, zorder=5, label='Special Events', marker='*')"
      ],
      "metadata": {
        "colab": {
          "base_uri": "https://localhost:8080/"
        },
        "id": "a6UJZCtHY_tw",
        "outputId": "d3844621-c75e-45a6-b5f3-2fa764722ec7"
      },
      "execution_count": 12,
      "outputs": [
        {
          "output_type": "execute_result",
          "data": {
            "text/plain": [
              "<matplotlib.collections.PathCollection at 0x7e47262df2c0>"
            ]
          },
          "metadata": {},
          "execution_count": 12
        }
      ]
    },
    {
      "cell_type": "code",
      "source": [
        "# Add moving averages for trend\n",
        "df['ma_7'] = df['sales'].rolling(window=7, center=True).mean()\n",
        "df['ma_30'] = df['sales'].rolling(window=30, center=True).mean()\n",
        "\n",
        "axes[1].plot(df['date'], df['sales'], linewidth=0.5, alpha=0.3, color='gray', label='Daily Sales')\n",
        "axes[1].plot(df['date'], df['ma_7'], linewidth=2, color='#e74c3c', label='7-Day Average', alpha=0.8)\n",
        "axes[1].plot(df['date'], df['ma_30'], linewidth=2.5, color='#3498db', label='30-Day Average', alpha=0.9)\n",
        "axes[1].set_title('Sales Trends with Moving Averages', fontsize=15, fontweight='bold', pad=15)\n",
        "axes[1].set_xlabel('Date', fontsize=11)\n",
        "axes[1].set_ylabel('Sales (€)', fontsize=11)\n",
        "axes[1].legend(loc='upper left', fontsize=10)\n",
        "axes[1].grid(True, alpha=0.3)\n",
        "\n",
        "plt.tight_layout()\n",
        "plt.savefig('sales_overview.png', dpi=300, bbox_inches='tight', facecolor='white')\n",
        "print(\"✓ Saved: sales_overview.png\")\n",
        "print()"
      ],
      "metadata": {
        "colab": {
          "base_uri": "https://localhost:8080/",
          "height": 72
        },
        "id": "dZGqEcQZZG-s",
        "outputId": "93a73530-d4db-4080-cb97-abd92f1e06d9"
      },
      "execution_count": 13,
      "outputs": [
        {
          "output_type": "stream",
          "name": "stdout",
          "text": [
            "✓ Saved: sales_overview.png\n",
            "\n"
          ]
        },
        {
          "output_type": "display_data",
          "data": {
            "text/plain": [
              "<Figure size 1400x700 with 0 Axes>"
            ]
          },
          "metadata": {}
        }
      ]
    },
    {
      "cell_type": "code",
      "source": [
        "# Seasonal patterns\n",
        "print(\"=\"*70)\n",
        "print(\"STEP 2: Discovering Patterns\")\n",
        "print(\"=\"*70)\n",
        "print()"
      ],
      "metadata": {
        "colab": {
          "base_uri": "https://localhost:8080/"
        },
        "id": "IjOi1X3LZL_S",
        "outputId": "d8706292-b40d-4804-a6f9-3f9e6781530b"
      },
      "execution_count": 14,
      "outputs": [
        {
          "output_type": "stream",
          "name": "stdout",
          "text": [
            "======================================================================\n",
            "STEP 2: Discovering Patterns\n",
            "======================================================================\n",
            "\n"
          ]
        }
      ]
    },
    {
      "cell_type": "code",
      "source": [
        "\n",
        "# Day of week analysis\n",
        "dow_avg = df.groupby('day_name')['sales'].mean().reindex([\n",
        "    'Monday', 'Tuesday', 'Wednesday', 'Thursday', 'Friday', 'Saturday', 'Sunday'\n",
        "])\n",
        "\n",
        "print(\"📅 Sales by Day of Week:\")\n",
        "for day, sales in dow_avg.items():\n",
        "    emoji = \"🎉\" if day in ['Saturday', 'Sunday'] else \"📊\"\n",
        "    print(f\"   {emoji} {day}: €{sales:.2f}\")\n",
        "print()\n"
      ],
      "metadata": {
        "colab": {
          "base_uri": "https://localhost:8080/"
        },
        "id": "VCLW32ZUatsC",
        "outputId": "3afe7fb7-65f6-4c2c-d4c7-e2e3fbee7543"
      },
      "execution_count": 15,
      "outputs": [
        {
          "output_type": "stream",
          "name": "stdout",
          "text": [
            "📅 Sales by Day of Week:\n",
            "   📊 Monday: €1334.14\n",
            "   📊 Tuesday: €1340.45\n",
            "   📊 Wednesday: €1295.64\n",
            "   📊 Thursday: €1200.68\n",
            "   📊 Friday: €1166.91\n",
            "   🎉 Saturday: €1320.99\n",
            "   🎉 Sunday: €1403.65\n",
            "\n"
          ]
        }
      ]
    },
    {
      "cell_type": "code",
      "source": [
        "weekend_boost_pct = ((dow_avg[['Saturday', 'Sunday']].mean() / dow_avg[['Monday', 'Tuesday', 'Wednesday', 'Thursday', 'Friday']].mean() - 1) * 100)\n",
        "print(f\"💡 Weekend boost: +{weekend_boost_pct:.1f}% compared to weekdays\")\n",
        "print()\n"
      ],
      "metadata": {
        "colab": {
          "base_uri": "https://localhost:8080/"
        },
        "id": "Er4tN0JFawQW",
        "outputId": "a2bfb092-ab45-42c7-8624-39e0003284f9"
      },
      "execution_count": 16,
      "outputs": [
        {
          "output_type": "stream",
          "name": "stdout",
          "text": [
            "💡 Weekend boost: +7.5% compared to weekdays\n",
            "\n"
          ]
        }
      ]
    },
    {
      "cell_type": "code",
      "source": [
        "# Monthly analysis\n",
        "monthly = df.groupby(df['date'].dt.to_period('M')).agg({\n",
        "    'sales': ['sum', 'mean', 'count']\n",
        "}).reset_index()\n",
        "monthly.columns = ['month', 'total', 'average', 'days']\n",
        "monthly['month'] = monthly['month'].dt.to_timestamp()"
      ],
      "metadata": {
        "id": "Q0EjFw4Wa5dC"
      },
      "execution_count": 17,
      "outputs": []
    },
    {
      "cell_type": "code",
      "source": [
        "# Visualize patterns\n",
        "fig, axes = plt.subplots(2, 2, figsize=(16, 11))\n"
      ],
      "metadata": {
        "colab": {
          "base_uri": "https://localhost:8080/",
          "height": 882
        },
        "id": "-cl_bZcRa8qM",
        "outputId": "b7f1fa83-53d5-418e-e105-c954b9b7acf4"
      },
      "execution_count": 18,
      "outputs": [
        {
          "output_type": "display_data",
          "data": {
            "text/plain": [
              "<Figure size 1600x1100 with 4 Axes>"
            ],
            "image/png": "[encoded data removed]"
          },
          "metadata": {}
        }
      ]
    },
    {
      "cell_type": "code",
      "source": [
        "\n",
        "# 1. Day of week\n",
        "colors_dow = ['#95a5a6' if day not in ['Saturday', 'Sunday'] else '#e74c3c' for day in dow_avg.index]\n",
        "axes[0, 0].bar(range(7), dow_avg.values, color=colors_dow, edgecolor='white', linewidth=2)\n",
        "axes[0, 0].set_xticks(range(7))\n",
        "axes[0, 0].set_xticklabels(['Mon', 'Tue', 'Wed', 'Thu', 'Fri', 'Sat', 'Sun'])\n",
        "axes[0, 0].set_ylabel('Average Sales (€)', fontsize=11)\n",
        "axes[0, 0].set_title('Average Sales by Day of Week', fontsize=13, fontweight='bold')\n",
        "axes[0, 0].grid(axis='y', alpha=0.3)\n",
        "for i, v in enumerate(dow_avg.values):\n",
        "    axes[0, 0].text(i, v + 20, f'€{v:.0f}', ha='center', fontweight='bold', fontsize=9)"
      ],
      "metadata": {
        "id": "KJm2ssCrbDm_"
      },
      "execution_count": 19,
      "outputs": []
    },
    {
      "cell_type": "code",
      "source": [
        "# 2. Monthly trend\n",
        "axes[0, 1].plot(monthly['month'], monthly['total'], marker='o', linewidth=2.5,\n",
        "               markersize=8, color='#27ae60')\n",
        "axes[0, 1].set_ylabel('Total Sales (€)', fontsize=11)\n",
        "axes[0, 1].set_title('Monthly Total Sales', fontsize=13, fontweight='bold')\n",
        "axes[0, 1].tick_params(axis='x', rotation=45)\n",
        "axes[0, 1].grid(True, alpha=0.3)"
      ],
      "metadata": {
        "id": "FXRfT1C1bHrk"
      },
      "execution_count": 20,
      "outputs": []
    },
    {
      "cell_type": "code",
      "source": [
        "# 3. Quarterly comparison\n",
        "quarterly = df.groupby('quarter')['sales'].sum()\n",
        "quarter_labels = ['Q1\\n(Jan-Mar)', 'Q2\\n(Apr-Jun)', 'Q3\\n(Jul-Sep)', 'Q4\\n(Oct-Dec)']\n",
        "colors_q = ['#3498db', '#2ecc71', '#f39c12', '#e74c3c']\n",
        "bars = axes[1, 0].bar(range(4), quarterly.values, color=colors_q, edgecolor='white', linewidth=2)\n",
        "axes[1, 0].set_xticks(range(4))\n",
        "axes[1, 0].set_xticklabels(quarter_labels)\n",
        "axes[1, 0].set_ylabel('Total Sales (€)', fontsize=11)\n",
        "axes[1, 0].set_title('Quarterly Sales Performance', fontsize=13, fontweight='bold')\n",
        "axes[1, 0].grid(axis='y', alpha=0.3)\n",
        "for i, v in enumerate(quarterly.values):\n",
        "    axes[1, 0].text(i, v + 2000, f'€{v/1000:.0f}K', ha='center', fontweight='bold', fontsize=10)"
      ],
      "metadata": {
        "id": "G6n1NQCLbKwN"
      },
      "execution_count": 21,
      "outputs": []
    },
    {
      "cell_type": "code",
      "source": [
        "# 4. Sales distribution\n",
        "axes[1, 1].hist(df['sales'], bins=50, color='#9b59b6', edgecolor='white', alpha=0.8)\n",
        "axes[1, 1].axvline(df['sales'].mean(), color='red', linestyle='--', linewidth=2,\n",
        "                   label=f'Mean: €{df[\"sales\"].mean():.0f}')\n",
        "axes[1, 1].axvline(df['sales'].median(), color='green', linestyle='--', linewidth=2,\n",
        "                   label=f'Median: €{df[\"sales\"].median():.0f}')\n",
        "axes[1, 1].set_xlabel('Sales (€)', fontsize=11)\n",
        "axes[1, 1].set_ylabel('Frequency', fontsize=11)\n",
        "axes[1, 1].set_title('Sales Distribution', fontsize=13, fontweight='bold')\n",
        "axes[1, 1].legend()\n",
        "axes[1, 1].grid(axis='y', alpha=0.3)\n",
        "\n",
        "plt.tight_layout()\n",
        "plt.savefig('sales_patterns.png', dpi=300, bbox_inches='tight', facecolor='white')\n",
        "plt.show()  # Display the chart in Colab\n",
        "print(\"✓ Saved: sales_patterns.png\")\n",
        "print()"
      ],
      "metadata": {
        "colab": {
          "base_uri": "https://localhost:8080/",
          "height": 72
        },
        "id": "aFrMDjCEbOzR",
        "outputId": "c1f10543-4d54-41d5-b215-39face5c2efc"
      },
      "execution_count": 22,
      "outputs": [
        {
          "output_type": "display_data",
          "data": {
            "text/plain": [
              "<Figure size 1400x700 with 0 Axes>"
            ]
          },
          "metadata": {}
        },
        {
          "output_type": "stream",
          "name": "stdout",
          "text": [
            "✓ Saved: sales_patterns.png\n",
            "\n"
          ]
        }
      ]
    },
    {
      "cell_type": "code",
      "source": [
        " #Prepare for forecasting\n",
        "print(\"=\"*70)\n",
        "print(\"STEP 3: Building the Forecasting Model\")\n",
        "print(\"=\"*70)\n",
        "print()\n",
        "\n",
        "print(\"🔧 Engineering features for prediction...\")\n"
      ],
      "metadata": {
        "colab": {
          "base_uri": "https://localhost:8080/"
        },
        "id": "ksc3f8LobVPm",
        "outputId": "3f74b2ac-745f-423a-f6e8-3aa78b77c2ef"
      },
      "execution_count": 23,
      "outputs": [
        {
          "output_type": "stream",
          "name": "stdout",
          "text": [
            "======================================================================\n",
            "STEP 3: Building the Forecasting Model\n",
            "======================================================================\n",
            "\n",
            "🔧 Engineering features for prediction...\n"
          ]
        }
      ]
    },
    {
      "cell_type": "code",
      "source": [
        "# Create lag features (past sales help predict future)\n",
        "for lag in [1, 7, 14, 30]:\n",
        "    df[f'sales_lag_{lag}'] = df['sales'].shift(lag)\n",
        "    print(f\"   • Created lag feature: {lag} days ago\")"
      ],
      "metadata": {
        "colab": {
          "base_uri": "https://localhost:8080/"
        },
        "id": "1PwR2sojbYpe",
        "outputId": "80e7a969-9501-4988-df11-7b23ff9a5bff"
      },
      "execution_count": 24,
      "outputs": [
        {
          "output_type": "stream",
          "name": "stdout",
          "text": [
            "   • Created lag feature: 1 days ago\n",
            "   • Created lag feature: 7 days ago\n",
            "   • Created lag feature: 14 days ago\n",
            "   • Created lag feature: 30 days ago\n"
          ]
        }
      ]
    },
    {
      "cell_type": "code",
      "source": [
        "# Rolling statistics\n",
        "df['rolling_mean_7'] = df['sales'].rolling(window=7).mean()\n",
        "df['rolling_std_7'] = df['sales'].rolling(window=7).std()\n",
        "print(f\"   • Created rolling averages\")"
      ],
      "metadata": {
        "colab": {
          "base_uri": "https://localhost:8080/"
        },
        "id": "JyQTJT_ZbdMd",
        "outputId": "3a84bb9c-a317-46c9-e92b-1be9378b0f2b"
      },
      "execution_count": 25,
      "outputs": [
        {
          "output_type": "stream",
          "name": "stdout",
          "text": [
            "   • Created rolling averages\n"
          ]
        }
      ]
    },
    {
      "cell_type": "code",
      "source": [
        "# Time features\n",
        "df['day_of_week'] = df['date'].dt.dayofweek\n",
        "df['day_of_month'] = df['date'].dt.day\n",
        "df['day_of_year'] = df['date'].dt.dayofyear\n",
        "df['week_of_year'] = df['date'].dt.isocalendar().week\n",
        "print(f\"   • Created time-based features\")"
      ],
      "metadata": {
        "colab": {
          "base_uri": "https://localhost:8080/"
        },
        "id": "dWv9jyB5bf3f",
        "outputId": "af108a67-e825-452c-a4e8-1d0bcba2f4e6"
      },
      "execution_count": 26,
      "outputs": [
        {
          "output_type": "stream",
          "name": "stdout",
          "text": [
            "   • Created time-based features\n"
          ]
        }
      ]
    },
    {
      "cell_type": "code",
      "source": [
        "# Remove rows with missing values\n",
        "df_clean = df.dropna().copy()\n",
        "print(f\"\\n✓ Dataset ready for modeling: {len(df_clean)} days\")\n",
        "print()"
      ],
      "metadata": {
        "colab": {
          "base_uri": "https://localhost:8080/"
        },
        "id": "ttZNEpcEbioT",
        "outputId": "f8ac5adf-8588-44bf-b7e4-264e48d47296"
      },
      "execution_count": 27,
      "outputs": [
        {
          "output_type": "stream",
          "name": "stdout",
          "text": [
            "\n",
            "✓ Dataset ready for modeling: 687 days\n",
            "\n"
          ]
        }
      ]
    },
    {
      "cell_type": "code",
      "source": [
        "# Split data\n",
        "split_point = int(len(df_clean) * 0.8)\n",
        "train = df_clean.iloc[:split_point]\n",
        "test = df_clean.iloc[split_point:]\n",
        "\n",
        "print(f\"📊 Data split:\")\n",
        "print(f\"   • Training period: {train['date'].min().strftime('%d %b %Y')} to {train['date'].max().strftime('%d %b %Y')} ({len(train)} days)\")\n",
        "print(f\"   • Testing period: {test['date'].min().strftime('%d %b %Y')} to {test['date'].max().strftime('%d %b %Y')} ({len(test)} days)\")\n",
        "print()"
      ],
      "metadata": {
        "colab": {
          "base_uri": "https://localhost:8080/"
        },
        "id": "_xzMN-hebkrk",
        "outputId": "df829c1b-5add-410c-fa34-d85c2e221637"
      },
      "execution_count": 28,
      "outputs": [
        {
          "output_type": "stream",
          "name": "stdout",
          "text": [
            "📊 Data split:\n",
            "   • Training period: 31 Jan 2023 to 01 Aug 2024 (549 days)\n",
            "   • Testing period: 02 Aug 2024 to 17 Dec 2024 (138 days)\n",
            "\n"
          ]
        }
      ]
    },
    {
      "cell_type": "code",
      "source": [
        "# Select features\n",
        "feature_cols = ['sales_lag_1', 'sales_lag_7', 'sales_lag_14', 'sales_lag_30',\n",
        "                'rolling_mean_7', 'rolling_std_7',\n",
        "                'day_of_week', 'month', 'quarter', 'day_of_year',\n",
        "                'is_weekend', 'is_special_day']\n",
        "\n",
        "X_train = train[feature_cols]\n",
        "y_train = train['sales']\n",
        "X_test = test[feature_cols]\n",
        "y_test = test['sales']\n"
      ],
      "metadata": {
        "id": "VUQ3tUSvbniy"
      },
      "execution_count": 29,
      "outputs": []
    },
    {
      "cell_type": "code",
      "source": [
        "# Train models\n",
        "print(\"🤖 Training prediction models...\")\n",
        "print()\n"
      ],
      "metadata": {
        "colab": {
          "base_uri": "https://localhost:8080/"
        },
        "id": "WSL34z2FbqIT",
        "outputId": "c74a237f-c46c-4c4f-b7f6-6fdd9f089eac"
      },
      "execution_count": 30,
      "outputs": [
        {
          "output_type": "stream",
          "name": "stdout",
          "text": [
            "🤖 Training prediction models...\n",
            "\n"
          ]
        }
      ]
    },
    {
      "cell_type": "code",
      "source": [
        "# Model 1: Linear Regression\n",
        "lr = LinearRegression()\n",
        "lr.fit(X_train, y_train)\n",
        "lr_pred = lr.predict(X_test)\n",
        "print(\"   ✓ Linear Regression trained\")\n"
      ],
      "metadata": {
        "colab": {
          "base_uri": "https://localhost:8080/"
        },
        "id": "ObhjAcF3bsJz",
        "outputId": "d1644376-aad2-4cff-a3d9-d056c49038f3"
      },
      "execution_count": 31,
      "outputs": [
        {
          "output_type": "stream",
          "name": "stdout",
          "text": [
            "   ✓ Linear Regression trained\n"
          ]
        }
      ]
    },
    {
      "cell_type": "code",
      "source": [
        "# Model 2: Random Forest\n",
        "rf = RandomForestRegressor(n_estimators=100, max_depth=15, random_state=42, n_jobs=-1)\n",
        "rf.fit(X_train, y_train)\n",
        "rf_pred = rf.predict(X_test)\n",
        "print(\"   ✓ Random Forest trained\")\n",
        "print()"
      ],
      "metadata": {
        "colab": {
          "base_uri": "https://localhost:8080/"
        },
        "id": "gfPsN5lpbvcd",
        "outputId": "3bfc11c1-6e5c-4963-f946-94310be1c847"
      },
      "execution_count": 32,
      "outputs": [
        {
          "output_type": "stream",
          "name": "stdout",
          "text": [
            "   ✓ Random Forest trained\n",
            "\n"
          ]
        }
      ]
    },
    {
      "cell_type": "code",
      "source": [
        "# Evaluate models\n",
        "print(\"=\"*70)\n",
        "print(\"STEP 4: Model Performance\")\n",
        "print(\"=\"*70)\n",
        "print()\n",
        "\n",
        "def evaluate_model(y_true, y_pred, name):\n",
        "    mae = mean_absolute_error(y_true, y_pred)\n",
        "    rmse = np.sqrt(mean_squared_error(y_true, y_pred))\n",
        "    r2 = r2_score(y_true, y_pred)\n",
        "    mape = np.mean(np.abs((y_true - y_pred) / y_true)) * 100\n",
        "\n",
        "    print(f\"📈 {name}:\")\n",
        "    print(f\"   • Mean Absolute Error: €{mae:.2f}\")\n",
        "    print(f\"   • Root Mean Squared Error: €{rmse:.2f}\")\n",
        "    print(f\"   • R² Score: {r2:.4f} ({r2*100:.1f}% variance explained)\")\n",
        "    print(f\"   • Mean Absolute % Error: {mape:.2f}%\")\n",
        "    print()\n",
        "\n",
        "    return {'MAE': mae, 'RMSE': rmse, 'R2': r2, 'MAPE': mape}\n",
        "\n",
        "lr_scores = evaluate_model(y_test, lr_pred, \"Linear Regression\")\n",
        "rf_scores = evaluate_model(y_test, rf_pred, \"Random Forest\")\n"
      ],
      "metadata": {
        "colab": {
          "base_uri": "https://localhost:8080/"
        },
        "id": "qajI8wZ1byl5",
        "outputId": "d6f0f76d-7d65-444d-cb2d-23569a4a8872"
      },
      "execution_count": 33,
      "outputs": [
        {
          "output_type": "stream",
          "name": "stdout",
          "text": [
            "======================================================================\n",
            "STEP 4: Model Performance\n",
            "======================================================================\n",
            "\n",
            "📈 Linear Regression:\n",
            "   • Mean Absolute Error: €47.91\n",
            "   • Root Mean Squared Error: €60.61\n",
            "   • R² Score: 0.7178 (71.8% variance explained)\n",
            "   • Mean Absolute % Error: 3.58%\n",
            "\n",
            "📈 Random Forest:\n",
            "   • Mean Absolute Error: €57.86\n",
            "   • Root Mean Squared Error: €72.56\n",
            "   • R² Score: 0.5955 (59.6% variance explained)\n",
            "   • Mean Absolute % Error: 4.27%\n",
            "\n"
          ]
        }
      ]
    },
    {
      "cell_type": "code",
      "source": [
        "# Determine best model\n",
        "best_model = \"Random Forest\" if rf_scores['MAE'] < lr_scores['MAE'] else \"Linear Regression\"\n",
        "print(f\"🏆 Best performing model: {best_model}\")\n",
        "print()"
      ],
      "metadata": {
        "colab": {
          "base_uri": "https://localhost:8080/"
        },
        "id": "EySWkTk3b3ws",
        "outputId": "d7cd5261-f01d-4b8e-c4fc-0e8588382396"
      },
      "execution_count": 34,
      "outputs": [
        {
          "output_type": "stream",
          "name": "stdout",
          "text": [
            "🏆 Best performing model: Linear Regression\n",
            "\n"
          ]
        }
      ]
    },
    {
      "cell_type": "code",
      "source": [
        "# Visualize predictions\n",
        "fig, axes = plt.subplots(2, 1, figsize=(15, 10))\n"
      ],
      "metadata": {
        "colab": {
          "base_uri": "https://localhost:8080/",
          "height": 836
        },
        "id": "PeGh0WbXb6Kw",
        "outputId": "8168a612-48f9-41f2-a9e1-be3848f163b1"
      },
      "execution_count": 35,
      "outputs": [
        {
          "output_type": "display_data",
          "data": {
            "text/plain": [
              "<Figure size 1500x1000 with 2 Axes>"
            ],
            "image/png": "[encoded data removed]"
          },
          "metadata": {}
        }
      ]
    },
    {
      "cell_type": "code",
      "source": [
        "# Linear Regression\n",
        "axes[0].plot(test['date'].values, y_test.values,\n",
        "            linewidth=2, label='Actual Sales', color='#2c3e50', alpha=0.8)\n",
        "axes[0].plot(test['date'].values, lr_pred,\n",
        "            linewidth=2, label='Predicted Sales', color='#e74c3c', linestyle='--', alpha=0.8)\n",
        "axes[0].fill_between(test['date'].values, y_test.values, lr_pred, alpha=0.2, color='gray')\n",
        "axes[0].set_ylabel('Sales (€)', fontsize=11)\n",
        "axes[0].set_title(f'Linear Regression Predictions (MAE: €{lr_scores[\"MAE\"]:.2f})',\n",
        "                 fontsize=13, fontweight='bold')\n",
        "axes[0].legend(loc='upper left', fontsize=10)\n",
        "axes[0].grid(True, alpha=0.3)"
      ],
      "metadata": {
        "id": "W7fQYcfib8ys"
      },
      "execution_count": 36,
      "outputs": []
    },
    {
      "cell_type": "code",
      "source": [
        "# Random Forest\n",
        "axes[1].plot(test['date'].values, y_test.values,\n",
        "            linewidth=2, label='Actual Sales', color='#2c3e50', alpha=0.8)\n",
        "axes[1].plot(test['date'].values, rf_pred,\n",
        "            linewidth=2, label='Predicted Sales', color='#27ae60', linestyle='--', alpha=0.8)\n",
        "axes[1].fill_between(test['date'].values, y_test.values, rf_pred, alpha=0.2, color='gray')\n",
        "axes[1].set_xlabel('Date', fontsize=11)\n",
        "axes[1].set_ylabel('Sales (€)', fontsize=11)\n",
        "axes[1].set_title(f'Random Forest Predictions (MAE: €{rf_scores[\"MAE\"]:.2f})',\n",
        "                 fontsize=13, fontweight='bold')\n",
        "axes[1].legend(loc='upper left', fontsize=10)\n",
        "axes[1].grid(True, alpha=0.3)\n",
        "\n",
        "plt.tight_layout()\n",
        "plt.savefig('forecast_results.png', dpi=300, bbox_inches='tight', facecolor='white')\n",
        "plt.show()  # Display the chart in Colab\n",
        "print(\"✓ Saved: forecast_results.png\")\n",
        "print()"
      ],
      "metadata": {
        "colab": {
          "base_uri": "https://localhost:8080/",
          "height": 72
        },
        "id": "8vt8G5YYcDXh",
        "outputId": "3ca56dc6-407d-4977-da8f-95f37fc2e997"
      },
      "execution_count": 37,
      "outputs": [
        {
          "output_type": "display_data",
          "data": {
            "text/plain": [
              "<Figure size 1400x700 with 0 Axes>"
            ]
          },
          "metadata": {}
        },
        {
          "output_type": "stream",
          "name": "stdout",
          "text": [
            "✓ Saved: forecast_results.png\n",
            "\n"
          ]
        }
      ]
    },
    {
      "cell_type": "code",
      "source": [
        "# Feature importance\n",
        "print(\"=\"*70)\n",
        "print(\"STEP 5: What Drives Sales?\")\n",
        "print(\"=\"*70)\n",
        "print()\n",
        "\n",
        "importance_df = pd.DataFrame({\n",
        "    'Feature': feature_cols,\n",
        "    'Importance': rf.feature_importances_\n",
        "}).sort_values('Importance', ascending=False)\n",
        "\n",
        "print(\"📊 Most Important Factors for Prediction:\")\n",
        "for idx, row in importance_df.head(8).iterrows():\n",
        "    bar = '█' * int(row['Importance'] * 100)\n",
        "    print(f\"   {row['Feature']:.<30} {bar} {row['Importance']:.3f}\")\n",
        "print()\n"
      ],
      "metadata": {
        "colab": {
          "base_uri": "https://localhost:8080/"
        },
        "id": "nVI1sVCkcHTh",
        "outputId": "c5973fd2-ec94-4752-a186-38abd0cda49f"
      },
      "execution_count": 38,
      "outputs": [
        {
          "output_type": "stream",
          "name": "stdout",
          "text": [
            "======================================================================\n",
            "STEP 5: What Drives Sales?\n",
            "======================================================================\n",
            "\n",
            "📊 Most Important Factors for Prediction:\n",
            "   sales_lag_7................... ██████████████████████████████████████████████████████████████████████ 0.706\n",
            "   sales_lag_14.................. ████████████████ 0.167\n",
            "   rolling_mean_7................ █████ 0.056\n",
            "   sales_lag_1................... █ 0.016\n",
            "   rolling_std_7................. █ 0.015\n",
            "   day_of_year................... █ 0.013\n",
            "   sales_lag_30.................. █ 0.011\n",
            "   day_of_week...................  0.007\n",
            "\n"
          ]
        }
      ]
    },
    {
      "cell_type": "code",
      "source": [
        "# Visualize feature importance\n",
        "plt.figure(figsize=(10, 6))\n",
        "colors_imp = plt.cm.viridis(np.linspace(0.3, 0.9, len(importance_df)))\n",
        "plt.barh(importance_df['Feature'][:10], importance_df['Importance'][:10], color=colors_imp)\n",
        "plt.xlabel('Importance Score', fontsize=12)\n",
        "plt.title('Top 10 Factors Influencing Sales Predictions', fontsize=14, fontweight='bold', pad=15)\n",
        "plt.gca().invert_yaxis()\n",
        "plt.grid(axis='x', alpha=0.3)\n",
        "plt.tight_layout()\n",
        "plt.savefig('feature_importance.png', dpi=300, bbox_inches='tight', facecolor='white')\n",
        "plt.show()  # Display the chart in Colab\n",
        "print(\"✓ Saved: feature_importance.png\")\n",
        "print()"
      ],
      "metadata": {
        "colab": {
          "base_uri": "https://localhost:8080/",
          "height": 643
        },
        "id": "7AI7SjtQcNbd",
        "outputId": "d454aa50-59d7-46bf-cc7d-63d5d842d970"
      },
      "execution_count": 39,
      "outputs": [
        {
          "output_type": "display_data",
          "data": {
            "text/plain": [
              "<Figure size 1000x600 with 1 Axes>"
            ],
            "image/png": "[encoded data removed]"
          },
          "metadata": {}
        },
        {
          "output_type": "stream",
          "name": "stdout",
          "text": [
            "✓ Saved: feature_importance.png\n",
            "\n"
          ]
        }
      ]
    },
    {
      "cell_type": "code",
      "source": [
        "# Export results\n",
        "print(\"=\"*70)\n",
        "print(\"STEP 6: Saving Results\")\n",
        "print(\"=\"*70)\n",
        "print()"
      ],
      "metadata": {
        "colab": {
          "base_uri": "https://localhost:8080/"
        },
        "id": "YjHtTtGIcQRu",
        "outputId": "a77fc1d5-662c-4f14-dd82-3cd05a822e3d"
      },
      "execution_count": 40,
      "outputs": [
        {
          "output_type": "stream",
          "name": "stdout",
          "text": [
            "======================================================================\n",
            "STEP 6: Saving Results\n",
            "======================================================================\n",
            "\n"
          ]
        }
      ]
    },
    {
      "cell_type": "code",
      "source": [
        "# Save predictions\n",
        "results = test[['date', 'sales']].copy()\n",
        "results['linear_regression_pred'] = lr_pred\n",
        "results['random_forest_pred'] = rf_pred\n",
        "results['lr_error'] = results['sales'] - results['linear_regression_pred']\n",
        "results['rf_error'] = results['sales'] - results['random_forest_pred']\n",
        "results.to_csv('sales_predictions.csv', index=False)\n",
        "print(\"✓ Saved: sales_predictions.csv\")"
      ],
      "metadata": {
        "colab": {
          "base_uri": "https://localhost:8080/"
        },
        "id": "GkDadGTEcTOz",
        "outputId": "f129b2f8-39f7-4e0c-f508-00cb6f11b5bd"
      },
      "execution_count": 41,
      "outputs": [
        {
          "output_type": "stream",
          "name": "stdout",
          "text": [
            "✓ Saved: sales_predictions.csv\n"
          ]
        }
      ]
    },
    {
      "cell_type": "code",
      "source": [
        "# Save all processed data\n",
        "df_clean.to_csv('processed_sales_data.csv', index=False)\n",
        "print(\"✓ Saved: processed_sales_data.csv\")"
      ],
      "metadata": {
        "colab": {
          "base_uri": "https://localhost:8080/"
        },
        "id": "ZxvMRVhWcXKP",
        "outputId": "daae0fb8-762c-49d5-861c-8e3e1e268316"
      },
      "execution_count": 42,
      "outputs": [
        {
          "output_type": "stream",
          "name": "stdout",
          "text": [
            "✓ Saved: processed_sales_data.csv\n"
          ]
        }
      ]
    },
    {
      "cell_type": "code",
      "source": [
        "# Save model comparison\n",
        "comparison = pd.DataFrame({\n",
        "    'Model': ['Linear Regression', 'Random Forest'],\n",
        "    'MAE (€)': [lr_scores['MAE'], rf_scores['MAE']],\n",
        "    'RMSE (€)': [lr_scores['RMSE'], rf_scores['RMSE']],\n",
        "    'R² Score': [lr_scores['R2'], rf_scores['R2']],\n",
        "    'MAPE (%)': [lr_scores['MAPE'], rf_scores['MAPE']]\n",
        "})\n",
        "comparison.to_csv('model_comparison.csv', index=False)\n",
        "print(\"✓ Saved: model_comparison.csv\")"
      ],
      "metadata": {
        "colab": {
          "base_uri": "https://localhost:8080/"
        },
        "id": "U8-41thJcmOy",
        "outputId": "4ae4b319-af82-4c38-f133-983699f00397"
      },
      "execution_count": 43,
      "outputs": [
        {
          "output_type": "stream",
          "name": "stdout",
          "text": [
            "✓ Saved: model_comparison.csv\n"
          ]
        }
      ]
    },
    {
      "cell_type": "code",
      "source": [
        "# ============================================\n",
        "# CREATE README.MD FILE\n",
        "# ============================================\n",
        "print(\"\\n📝 Creating README.md...\")\n",
        "\n",
        "with open('README.md', 'w', encoding='utf-8') as f:\n",
        "    f.write(\"# Sales Forecasting with Machine Learning\\n\\n\")\n",
        "    f.write(\"## 📊 Project Overview\\n\")\n",
        "    f.write(\"This project predicts future sales using historical data and machine learning algorithms. \")\n",
        "    f.write(\"It analyzes 2 years of daily sales data to identify patterns and build accurate forecasting models.\\n\\n\")\n",
        "\n",
        "    f.write(\"## 🎯 Objectives\\n\")\n",
        "    f.write(\"- Understand sales patterns (trends, seasonality, weekly cycles)\\n\")\n",
        "    f.write(\"- Build predictive models using Linear Regression and Random Forest\\n\")\n",
        "    f.write(\"- Compare model performance and select the best approach\\n\")\n",
        "    f.write(\"- Provide actionable insights for business planning\\n\\n\")\n",
        "\n",
        "    f.write(\"## 📈 Key Findings\\n\\n\")\n",
        "    f.write(f\"### Sales Statistics\\n\")\n",
        "    f.write(f\"- **Average Daily Sales**: €{df['sales'].mean():.2f}\\n\")\n",
        "    f.write(f\"- **Total Revenue (2 years)**: €{df['sales'].sum():,.2f}\\n\")\n",
        "    f.write(f\"- **Best Performing Day**: {dow_avg.idxmax()} (€{dow_avg.max():.2f})\\n\")\n",
        "    f.write(f\"- **Weekend Boost**: +{weekend_boost_pct:.1f}% vs weekdays\\n\\n\")\n",
        "\n",
        "    f.write(f\"### Model Performance\\n\")\n",
        "    f.write(f\"**Best Model: {best_model}**\\n\\n\")\n",
        "    f.write(f\"| Model | MAE (€) | RMSE (€) | R² Score | MAPE (%) |\\n\")\n",
        "    f.write(f\"|-------|---------|----------|----------|----------|\\n\")\n",
        "    f.write(f\"| Linear Regression | {lr_scores['MAE']:.2f} | {lr_scores['RMSE']:.2f} | {lr_scores['R2']:.4f} | {lr_scores['MAPE']:.2f} |\\n\")\n",
        "    f.write(f\"| Random Forest | {rf_scores['MAE']:.2f} | {rf_scores['RMSE']:.2f} | {rf_scores['R2']:.4f} | {rf_scores['MAPE']:.2f} |\\n\\n\")\n",
        "\n",
        "    f.write(\"### Top Predictive Factors\\n\")\n",
        "    for idx, row in importance_df.head(5).iterrows():\n",
        "        f.write(f\"{idx+1}. {row['Feature']}: {row['Importance']:.3f}\\n\")\n",
        "\n",
        "    f.write(\"\\n## 🛠️ Methodology\\n\\n\")\n",
        "    f.write(\"1. **Data Generation**: Created 2 years of realistic daily sales data with trends and seasonality\\n\")\n",
        "    f.write(\"2. **Exploratory Analysis**: Identified patterns by day, week, month, and quarter\\n\")\n",
        "    f.write(\"3. **Feature Engineering**: Created lag features, rolling averages, and time-based features\\n\")\n",
        "    f.write(\"4. **Model Training**: Trained Linear Regression and Random Forest models\\n\")\n",
        "    f.write(\"5. **Evaluation**: Compared models using MAE, RMSE, R², and MAPE metrics\\n\\n\")\n",
        "\n",
        "    f.write(\"## 📁 Project Files\\n\\n\")\n",
        "    f.write(\"- `sales_overview.png` - Time series visualization with trends\\n\")\n",
        "    f.write(\"- `sales_patterns.png` - Daily, monthly, and quarterly patterns\\n\")\n",
        "    f.write(\"- `forecast_results.png` - Model predictions vs actual sales\\n\")\n",
        "    f.write(\"- `feature_importance.png` - Most influential factors\\n\")\n",
        "    f.write(\"- `sales_predictions.csv` - Detailed prediction results\\n\")\n",
        "    f.write(\"- `processed_sales_data.csv` - Complete dataset with engineered features\\n\")\n",
        "    f.write(\"- `model_comparison.csv` - Performance metrics for all models\\n\\n\")\n",
        "\n",
        "    f.write(\"## 💡 Business Insights\\n\\n\")\n",
        "    f.write(\"1. **Weekend Strategy**: Sales increase significantly on weekends - consider weekend promotions\\n\")\n",
        "    f.write(\"2. **Seasonal Planning**: Q4 shows highest sales - prepare inventory accordingly\\n\")\n",
        "    f.write(\"3. **Predictable Patterns**: Recent sales history strongly predicts future sales\\n\")\n",
        "    f.write(\"4. **Special Events**: Major holidays drive significant sales spikes\\n\\n\")\n",
        "\n",
        "    f.write(\"## 🔧 Technologies Used\\n\\n\")\n",
        "    f.write(\"- **Python 3.x**\\n\")\n",
        "    f.write(\"- **Pandas & NumPy** - Data manipulation\\n\")\n",
        "    f.write(\"- **Scikit-learn** - Machine learning models\\n\")\n",
        "    f.write(\"- **Matplotlib & Seaborn** - Data visualization\\n\\n\")\n",
        "\n",
        "    f.write(\"## 🚀 How to Use\\n\\n\")\n",
        "    f.write(\"```python\\n\")\n",
        "    f.write(\"# Run the analysis\\n\")\n",
        "    f.write(\"python sales_forecasting.py\\n\")\n",
        "    f.write(\"```\\n\\n\")\n",
        "\n",
        "    f.write(\"## 👨‍💻 About the Author\\n\\n\")\n",
        "    f.write(\"**Muhammad Faizan**\\n\\n\")\n",
        "    f.write(\"M2 Data Analytics Student | France\\n\\n\")\n",
        "    f.write(\"I'm a Master's student specializing in data analytics and machine learning, passionate about transforming data into actionable business insights. This project demonstrates my skills in time series forecasting, feature engineering, and predictive modeling.\\n\\n\")\n",
        "\n",
        "    f.write(\"### 🎓 Skills Demonstrated\\n\")\n",
        "    f.write(\"- **Programming**: Python (Pandas, NumPy, Scikit-learn)\\n\")\n",
        "    f.write(\"- **Machine Learning**: Regression models, ensemble methods, model evaluation\\n\")\n",
        "    f.write(\"- **Data Visualization**: Matplotlib, Seaborn\\n\")\n",
        "    f.write(\"- **Statistics**: Time series analysis, feature engineering, performance metrics\\n\")\n",
        "    f.write(\"- **Business Analysis**: Translating data insights into recommendations\\n\\n\")\n",
        "\n",
        "    f.write(\"### 📅 Project Timeline\\n\")\n",
        "    f.write(\"- **Created**: September 2025\\n\")\n",
        "    f.write(\"- **Last Updated**: September 2025\\n\")\n",
        "    f.write(\"- **Status**: ✅ Complete\\n\\n\")\n",
        "\n",
        "    f.write(\"## 📧 Contact\\n\\n\")\n",
        "    f.write(\"📩 **Email**: faizanawan579@gmail.com\\n\")\n",
        "    f.write(\"💼 **LinkedIn**: [linkedin.com/in/muhammad-faizan-data](https://linkedin.com/in/muhammad-faizan-data)\\n\")\n",
        "    f.write(\"🐙 **GitHub**: [github.com/mfaizan-analytics](https://github.com/faizan579)\")\n",
        "    f.write(\"---\\n\\n\")\n",
        "    f.write(\"*This project was created as part of my data analytics internship application portfolio. I'm actively seeking opportunities in data analytics, business intelligence, and machine learning roles in France.*\\n\\n\")\n",
        "    f.write(\"**Looking for internship opportunities starting February 2026** 🚀\\n\")\n",
        "\n",
        "print(\"✓ Saved: README.md\")\n",
        "print()"
      ],
      "metadata": {
        "colab": {
          "base_uri": "https://localhost:8080/"
        },
        "id": "fUR4WePccoZJ",
        "outputId": "7729680f-7b54-432e-897c-62a52560aac0"
      },
      "execution_count": 44,
      "outputs": [
        {
          "output_type": "stream",
          "name": "stdout",
          "text": [
            "\n",
            "📝 Creating README.md...\n",
            "✓ Saved: README.md\n",
            "\n"
          ]
        }
      ]
    },
    {
      "cell_type": "code",
      "source": [
        "# Final summary\n",
        "print(\"=\"*70)\n",
        "print(\"  ✅ FORECASTING PROJECT COMPLETE!\")\n",
        "print(\"=\"*70)\n",
        "print()\n",
        "print(f\"🎉 Successfully analyzed {len(df)} days of sales data!\")\n",
        "print(f\"📊 Built and compared 2 forecasting models\")\n",
        "print(f\"🏆 Best model achieves €{min(lr_scores['MAE'], rf_scores['MAE']):.2f} average error\")\n",
        "print()\n",
        "print(\"📦 All files ready for GitHub:\")\n",
        "print(\"   • 4 visualization images (PNG)\")\n",
        "print(\"   • 3 data files (CSV)\")\n",
        "print(\"   • 1 comprehensive README.md\")\n",
        "print()"
      ],
      "metadata": {
        "colab": {
          "base_uri": "https://localhost:8080/"
        },
        "id": "ZXy9QBxpdHYZ",
        "outputId": "575d484c-11dc-4849-9411-c88e03e5840c"
      },
      "execution_count": 45,
      "outputs": [
        {
          "output_type": "stream",
          "name": "stdout",
          "text": [
            "======================================================================\n",
            "  ✅ FORECASTING PROJECT COMPLETE!\n",
            "======================================================================\n",
            "\n",
            "🎉 Successfully analyzed 731 days of sales data!\n",
            "📊 Built and compared 2 forecasting models\n",
            "🏆 Best model achieves €47.91 average error\n",
            "\n",
            "📦 All files ready for GitHub:\n",
            "   • 4 visualization images (PNG)\n",
            "   • 3 data files (CSV)\n",
            "   • 1 comprehensive README.md\n",
            "\n"
          ]
        }
      ]
    },
    {
      "cell_type": "code",
      "source": [],
      "metadata": {
        "id": "wjfRWCYSgp5P"
      },
      "execution_count": 45,
      "outputs": []
    }
  ]
}